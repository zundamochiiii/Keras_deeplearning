{
 "cells": [
  {
   "cell_type": "markdown",
   "metadata": {},
   "source": [
    "# markdown記法のチートシート\n",
    "***\n",
    "\n",
    "<details><summary>・折り畳み</summary><div>\n",
    "\n",
    "    <details><summary>表示される部分</summary><div>内容</div><details>\n",
    "\n",
    "</div></details>\n",
    "\n",
    "<details><summary>・画像をサイズ指定して表示</summary><div>\n",
    "\n",
    "    <img src=\"画像のアドレス\" width=\"サイズ\">\n",
    "\n",
    "</div></details>\n",
    "\n",
    "    \n",
    "<details><summary>・=を揃える</summary><div>\n",
    "\n",
    "    \\begin{eqnarray}\n",
    "    \n",
    "    &=&\n",
    "    \n",
    "    \\end{eqnarray} \n",
    "\n",
    "</div></details>\n",
    "    \n",
    "***"
   ]
  }
 ],
 "metadata": {
  "kernelspec": {
   "display_name": "Python 3",
   "language": "python",
   "name": "python3"
  },
  "language_info": {
   "codemirror_mode": {
    "name": "ipython",
    "version": 3
   },
   "file_extension": ".py",
   "mimetype": "text/x-python",
   "name": "python",
   "nbconvert_exporter": "python",
   "pygments_lexer": "ipython3",
   "version": "3.8.8"
  }
 },
 "nbformat": 4,
 "nbformat_minor": 4
}
