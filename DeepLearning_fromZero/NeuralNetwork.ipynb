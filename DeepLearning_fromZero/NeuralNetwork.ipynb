{
 "cells": [
  {
   "cell_type": "markdown",
   "metadata": {},
   "source": [
    "# パーセプトロンとは\n",
    "***\n",
    "\n",
    ">ローゼンブラットというアメリカの研究者によって1957年に考案されたアルゴリズムであり、ニューラルネットワークの起源となるアルゴリズムでもある。\n",
    "\n",
    "\n",
    "**パーセプトロン**は複数の信号を入力として受け取り、ひとつの信号を出力する。そこで、パーセプトロンの信号は「流す/流さない(1/0)」の2値である。  \n",
    "\n",
    "<img src=\"./pic/ch1/perceptron.png\" width=\"300\">\n",
    "\n",
    "　出力方法は入力に重みを掛け合わせた値の総和にバイアスを加えたものが閾値を超えた場合に1をそうでなければ0を出力する。これにより1が出力されることを「ニューロンが発火する」と表現され、バイアスは言ってしまえば発火のしやすさであり-θとも表すことができる。また、重みとは各信号の重要性をコントロールするパラメータであり、人口ニューロンの結合強度ともいえる。  \n",
    "※ここで言うパーセプトロンは正確には人口ニューロン,単純パーセプトロンと呼ばれるものである\n",
    "\n",
    "**ニューロン**:脳の神経細胞のこと パーセプトロンやニューラルネットワークで結合される各ノードのことでもある \n",
    "\n",
    "\n",
    " 実際に上のパーセプトロンによって出力を求める式は式1の通りである。\n",
    "\n",
    "$$\n",
    "    \\tag{1}\n",
    "    y = \\begin{cases}\n",
    "    0 & (b + w_1x_1 + w_2x_2 \\le 0) \\\\\n",
    "    1 & (b + w_1x_1 + w_2x_2 > 0)\n",
    "    \\end{cases}\n",
    "$$\n",
    "\n",
    "　**活性化関数(activation function)**は入力信号の総和がどのように活性化(発火)するかを決定する役割がある。式1を活性化関数によって表現すると\n",
    " \n",
    "$$\n",
    "    \\tag{2}\n",
    "    y = h(b + w_1x_1 + w_2x_2)\n",
    "$$\n",
    "\n",
    "$$\n",
    "    \\tag{3}\n",
    "    h(x) = \\begin{cases}\n",
    "    0 & (x \\le 0) \\\\\n",
    "    1 & (x > 0)\n",
    "    \\end{cases}\n",
    "$$\n",
    "\n",
    "と表現される。式2は、入力信号の総和がh(x)という活性化関数によって変換され、その変換された値が出力yになるということを表している。また、式3で表されるh(x)では、入力が0を超えたら1を、そうでなければ0を返す。\n",
    "\n",
    "　上記のように、閾値を境にして出力が切り替わる関数を「**ステップ関数**」もしくは「**階段関数**」と呼び、**非連続な関数**である。つまり、パーセプトロンでは活性化関数にステップ関数を利用している。\n",
    " \n",
    "また、式1から分かるように単層パーセプトロンではAND,ORゲートのような線形領域を表現することができるがXORゲートのような非線形領域を表現することはできない。これを可能にするためにはパーセプトロンを多層構造にする必要がある。具体的には、AND,NAND,ORゲートを組み合わせてできるXORゲートを想像するといいだろう。\n",
    "\n",
    "***"
   ]
  },
  {
   "cell_type": "markdown",
   "metadata": {},
   "source": [
    "# ニューラルネットワークとは\n",
    "***\n",
    "\n",
    ">脳神経を模範とした数学モデルであり、ネットワークを形成する多数の人口ニューロンのシナプス結合強度を変化させることにより問題解決を行う\n",
    ">引用元:https://www.slideshare.net/yutakakatayama5/ss-203767910\n",
    "\n",
    "<img src=\"./pic/ch1/neuralnetwork.png\" width=\"400\">\n",
    "\n",
    "　ニューラルネットワークは上図のように入力層、中間層(もしくは隠れ層)、出力層からなっている。上図のような例は全部で3層から構成されているが、重みを持つ層は実質2層であるため。「2層ネットワーク」と呼ぶ。(3層ネットワークと呼ぶ場合もある)\n",
    "\n",
    "パーセプトロンでは活性化関数にステップ関数を用いていたが、ニューラルネットワークでよく用いられる活性化関数の一つは、式4で表される「**シグモイド関数**」である。\n",
    "\n",
    "$$\n",
    "    \\tag{4}\n",
    "    h(x) = \n",
    "    \\frac{1}{1 + \\exp{(-x)}}\n",
    "$$\n",
    "\n",
    "　ステップ関数は非連続であることに対し、シグモイド関数は連続関数である。しかし、下に示すようにグラフで表してみると概形はおよそ似ていると言えるだろう。また、ステップ関数とシグモイド関数はどちらも**非線形関数である**という共通点もある。ニューラルネットワークでは、活性化関数に非線形関数を用いらなければならない。なぜなら、線形関数を用いるとニューラルネットワークで層を深くすることの意味がなくなってしまうからである。複数の層に分けて活性化関数に線形関数を用いたとしても、たった一層に集約できるため中間層の必要がなくなってしまう。つまり、層を重ねることの恩恵を得るためには、活性化関数に非線形関数を用いる必要があるのだ。\n",
    " \n",
    "　また、出力層では活性化関数に「**恒等関数**」を用いる。これは、入力をそのまま出力する関数である。隠れ層の活性化関数をh()と表すのに対し、出力層の活性化関数はσ()で表す。(出力層で利用する活性化関数は、解く問題の性質に応じて決める。例として、回帰問題では恒等関数、2クラス分類問題ではシグモイド関数、多クラス分類では**ソフトマックス関数**を使うのが一般的である)\n",
    " \n",
    "　ニューラルネットワークは、分類問題と回帰問題の両方に用いることができる。(ただし、前述の通り問題の種類によって活性化関数を使い分ける必要がある)\n",
    " \n",
    "**分類問題**:人の写った画像から、その人が男性か女性のどちらであるかを分類するような問題  \n",
    "**回帰問題**:ある入力データから、(連続的な)数値の予測を行うような問題\n",
    "\n",
    "**恒等関数**:入力をそのまま出力  \n",
    "**ソフトマックス関数**:以下の式で表される  \n",
    "\n",
    "$$\n",
    "    \\tag{5}\n",
    "    y_k = \\frac{exp(a_k)}{\\sum^{n}_{i=1}(a_i)}\n",
    "$$\n",
    "\n",
    "ここでは、出力層がn個あるとして、k番目の出力$ y_k $を求める計算式を表している。式5に示したように、ソフトマックス関数の分子は入力信号$ a_k $の指数関数、分母はすべての入力信号の指数関数の和から構成される。つまり、出力の各ニューロンがすべての入力信号から影響を受けるようになっている。\n",
    "\n",
    "ソフトマックス関数を実装する際には、オーバーフローに注意しなければならない。非常に大きな値になりがちなので、その値同士で割算を行うと、数値が不安定な結果となってしまう。その提案策として、分子と分母に同じ値のCという任意の定数を掛けるというものがある。分母と分子に同じ値を掛けるため最終的な結果は変わらない。具体的な式を下に示す。\n",
    "\n",
    "$$\n",
    "    \\tag{6}\n",
    "    \\begin{eqnarray}\n",
    "    y_k = \\frac{exp(a_k)}{\\sum^{n}_{i=1}(a_i)}\n",
    "        &=& \\frac{C exp(a_k)}{C \\sum^{n}_{i=1}(a_i)} \\\\\n",
    "        &=& \\frac{exp(a_k + logC)}{\\sum^{n}_{i=1}(a_i + logC)} \\\\\n",
    "        &=& \\frac{exp(a_k + C')}{\\sum^{n}_{i=1}(a_i + C')}\n",
    "    \\end{eqnarray}\n",
    "$$\n",
    "\n",
    "式6で述べていることは、ソフトマックス関数の計算を行う際には、何らかの定数を足し引きしても結果は変わらないということだ。ここで、C'にはどのような値を用いてもよいが、入力信号の最大値を用いることが一般的である。\n",
    "\n",
    "ソフトマックス関数の出力は0から1.0の間の実数となる。また、ソフトマックス関数の出力の総和は1となる、つまり、この性質のおかげでソフトマックス関数の出力を**確率**として解釈することができる。よって、ソフトマックス関数を用いることで、問題に対して確率的あるいは統計的な対応ができる。  \n",
    "　ここで注意しなければならないのは、ソフトマックス関数を用いても各要素の大小関係は変わらないという点だ。これは、指数関数が単調増加するという性質に起因しており、そのため各入力信号ごとに大小関係を調整することは出来ないのである。  \n",
    " \n",
    "　ニューラルネットワークのクラス分類では、一般的に出力の一番大きいニューロンに相当するクラスだけを認識結果とする。そのため、ニューラルネットワークが分類を行う際には、出(確率の表示などをせず、分類のみを行うのであれば)力層のソフトマックス関数を省略することができる。実際の問題では、どうしても計算量が多くなりがちなソフトマックス関数を省略するのが一般的である。\n",
    " \n",
    "　出力層のニューロンの数は、解くべき問題に応じて適宜決める必要がある。クラス分類を行う問題では、出力層のニューロンの数は分類したいクラスの数に設定するのは一般的である。\n",
    " \n",
    "損失関数  \n",
    "回帰問題: 平均二乗誤差など  \n",
    "分類問題: 交差エントロピー\n"
   ]
  },
  {
   "cell_type": "markdown",
   "metadata": {},
   "source": [
    "# ニューラルネットワークの流れ\n",
    "***\n",
    "\n",
    "## 基本的な流れ\n",
    "\n",
    "ここでは簡単なモデルを元にニューラルネットワークでの学習の流れを確認する。今回用いるモデルは以下とする。また、結合の種類は全結合(アフィン)とする。\n",
    "\n",
    "<img src=\"./pic/neural_network.png\" width=\"400\">\n",
    "\n",
    "### ①入力から各ノードごとに数値を算出する(線形変換)\n",
    "このフェーズでは、入力ベクトルを$ h_0 $とした時に、重み行列$ W_{xy} $とバイアスベクトル$ b_1 $によって以下のような線形変換を行う。\n",
    "\n",
    "$$\n",
    "    \\tag{1}\n",
    "    u_1 = W_{xy}h_0 + b_1\n",
    "$$\n",
    "\n",
    "式1を元に、モデルに値を割り振って計算してみる。  \n",
    "図は以下の通りである。\n",
    "\n",
    "<img src=\"./pic/neural_network2.png\" width=\"400\">\n",
    "\n",
    "図からも分かるように、ニューラルネットワークでは式1のような線形変換が行われていることが分かる。これをより具体的に式で表すと、\n",
    "\n",
    "$$\n",
    "    \\tag{2}\n",
    "    \\begin{eqnarray}\n",
    "    u_{11} &=& w_{11}h_{01} + w_{12}h_{02} + w_{13}h_{03} + b_1 \\\\\n",
    "    u_{12} &=& w_{21}h_{01} + w_{22}h_{02} + w_{23}h_{03} + b_2 \\\\\n",
    "    \\end{eqnarray}\n",
    "$$\n",
    "\n",
    "また、式2を式1と等価にするには、\n",
    "\n",
    "$$\n",
    "    \\begin{eqnarray}\n",
    "    h_0 &=& \n",
    "        \\left[ \\begin{matrix}\n",
    "        h_{01} \\\\\n",
    "        h_{02} \\\\\n",
    "        h_{03}\n",
    "    \\end{matrix} \\right] \\tag{3} \\\\\n",
    "    w_{10} &=& \n",
    "        \\left[ \\begin{matrix}\n",
    "        w_{11} & w_{12} & w_{13} \\\\\n",
    "        w_{21} & w_{22} & w_{23}\n",
    "        \\end{matrix} \\right] \\tag{4} \\\\\n",
    "    b_1 &=& \n",
    "        \\left[ \\begin{matrix}\n",
    "        b_{1} \\\\\n",
    "        b_{2} \n",
    "        \\end{matrix} \\right] \\tag{5} \\\\\n",
    "    u_1 &=& \n",
    "        \\left[ \\begin{matrix}\n",
    "        u_{11} \\\\\n",
    "        u_{12} \n",
    "        \\end{matrix} \\right] \\tag{6}\n",
    "    \\end{eqnarray}\n",
    "$$\n",
    "\n",
    "とすることで証明できるだろう。\n",
    "\n",
    "### ②活性化関数によって算出値を変換する(非線形変換)\n",
    "フェーズ1では入力ベクトル、シナプス結合強度(結合重み)、バイアスを用いて出力ベクトル$ u $を導き出した。このフェーズでは、前フェーズで導き出した出力を非線形変換を行い線形では表現できない非線形な集合の分類を行う。簡単な例としてはXORゲートの表現などが挙げられるだろう。ORゲートANDゲートはそれぞれ線形な関数で表現可能だが、XORゲートはこれらを組み合わせて表現される。ニューラルネットワークも同じように非線形な変換を繰り返して、多クラスの分類のような分類問題や売上予測のような回帰問題を解決などを行う。\n",
    "\n",
    "ここで非線形変換に用いる関数を**活性化関数**という。活性化関数にはいくつかの種類がある。また、活性化関数を$ a() $と表し、その出力結果を$ h $とすると\n",
    "\n",
    "$$\n",
    "    \\tag{7}\n",
    "    h_{xy} = a(u_{xy})\n",
    "$$\n",
    "\n",
    "というように表される。ここで、$ h $は活性値と呼ばれ、次に層が続いているのであればその層への入力となる。\n",
    "\n",
    "<img src=\"./pic/neural_network3.png\" width=\"400\">\n",
    "\n",
    "### ③1と2を中間層の数だけ行い最終的な値を算出する\n",
    "今回のテストケースは、2層ニューラルネットワークとなっているためフェーズ2の時点で出力層への入力の準備は整った。もし中間層が2層以上ある場合はフェーズ1,2をその分だけ繰り返して出力層への入力値を算出する。  \n",
    "出力層でもフェーズ1と同じように各入力値と重みから$ y $の値を算出する。ここで、フェーズ2と少し違うのが、出力層では、**活性化関数を解きたい問題の性質によって変える**点だ。大まかに言うと  \n",
    "\n",
    "分類問題:恒等関数(入力をそのまま出力する)  \n",
    "回帰問題:ソフトマックス関数(端子ごとに0から1の確率分布で出力する。総和は1)\n",
    "\n",
    "となる。それぞれを式で示すと、\n",
    "\n",
    "$$\n",
    "    σ(a) = a\n",
    "$$\n",
    "\n",
    "$$\n",
    "    \\begin{eqnarray}\n",
    "    σ(a_{k}) = \\frac{exp(a_k)}{\\sum^{n}_{i=1}(a_i)}\n",
    "        &=& \\frac{C exp(a_k)}{C \\sum^{n}_{i=1}(a_i)} \\\\\n",
    "        &=& \\frac{exp(a_k + logC)}{\\sum^{n}_{i=1}(a_i + logC)} \\\\\n",
    "        &=& \\frac{exp(a_k + C')}{\\sum^{n}_{i=1}(a_i + C')}\n",
    "    \\end{eqnarray}\n",
    "$$\n",
    "\n",
    "と示せる。ソフトマックス関数は総和分の$ e^{a_{k}} $を取るため総和は1,取る値は0から1となり、出力層の出力を確率として解釈することができる。\n",
    "\n",
    "以上がニューラルネットワークが出力を出すまでの手順であり、これらは総じて**順伝播(forward-propagation)**と言われる。では、これ以降に何をするか。これこそが機械**学習**と言われる所以でもあり一番重要となる処理だ。学習とは言い換えれば**最適な重みを求めること**であるが、これだけでは十分な説明とは言えない。深層学習においての学習とは**目的関数の取る値が最小となるような重みを求めること**である。目的関数とは？となるかもしれないが、次フェーズ以降では重みを更新するための手順や目的関数、その手法について順を追って説明する。\n",
    "\n",
    "\n",
    "### ④目的関数を定める\n",
    "目的関数の定義とは...\n",
    "※目的関数 ⊃ コスト関数、誤差関数、損失関数　らしい\n",
    "　おそらく損失関数とは損失値が最小を取るように　という意味合いであると思われる\n",
    "\n",
    ">最適化問題 (数理計画問題) あるいは, において, 最大化(あるいは最小化)される関数 .\n",
    "\n",
    "つまり、深層学習においては予測値と実測値の誤差(損失)が最小となるような解を求めるための関数と言える。深層学習では、**微分可能であれば**どのような関数を目的関数として用いることが可能である。何故微分可能であるかどうかが判断のカギとなるのかは、後のセクションで説明する**誤差逆伝播法(back-propagation)**において、連鎖律(微分)を用いるためである。では、実際によく用いられる目的関数をそのケースごとに見てみよう。\n",
    "\n",
    "#### 平均二乗誤差：回帰問題(予測)\n",
    "平均二乗誤差は、回帰問題でよく用いられる目的関数であり、以下の式で表される。\n",
    "\n",
    "$$\n",
    "    L = \\frac{1}{N}\\sum^{N}_{n=1}(t_{n}-y_{n})^{2}\n",
    "$$\n",
    "\n",
    "ここで、$ t_{n} $は正解ラベルであり、$ y_{n} $はニューラルネットワークの出力値である。ちなみに、重回帰分析で決定計数の導出に用いる二乗和誤差とは総和を取る、データ数で割るという点で異なる。(バッチ学習を用いる際に複数データを同時にフィッティングするため)\n",
    "\n",
    "#### 交差エントロピー：分類問題(分類、判断)\n",
    "交差エントロピーは、分類問題でよく用いられる目的関数であり、以下の式で表される。\n",
    "\n",
    "$$\n",
    "    L = -\\sum^{N}_{n=1}\\sum^{K}_{k=1} t_{n,k} \\log{y_{n,k}}\n",
    "$$\n",
    "\n",
    "ここで、$ t_{n} $は正解ラベルであり、$ y_{n} $はニューラルネットワークの出力値であるが、一度の学習において出力は1つではない。これは、分類問題を解く際に用いられる出力層の活性化関数であるソフトマックス関数などの性質による。おさらいするが、分類問題では出力としてラベルごとに正解である可能性を確率として出力する。そのため、分類問題での出力は一般にKクラスであればk個(場合によってk-1)存在する。そのため、正解ラベル行列$ t $は、一行に$ n $個分の正解率を持ち、それらが$ k $列文存在する。また、交差エントロピー誤差は正解ラベル(t=1)ごとに出力値(y)と比較し、同じ値(t=y=1)ならばlog(1)=0となり誤差は0となる。\n",
    "\n",
    "### ⑤目的関数の最適化\n",
    "目的関数を定めたら、いよいよ学習を行っていく。このフェーズでは、前述した通りに目的関数の取る値$ L $を最小となるようなパラメータを求めていく。\n",
    "\n",
    "#### 勾配降下法\n",
    "勾配降下法とは、目的関数でとる値を元に傾き(**勾配**)を求めて重み$ w $を更新していくことで最小を取るような極値解 $ \\frac{\\delta{L}}{\\delta{w}} = 0 $を求める手法である。例えば、出力の結果の目的関数の出力が5であったとするならば、現在の目的関数と出力値の接線は右肩上がりであると分かる。つまり、逆に$ w $から引いてやれば最小値に近づくだろうということである。しかし、ただ足し引きするのではなく、**学習率**というのを定めてその割合ごとに足し引きするのだ。ここで、学習率が大きすぎると最小値を通り越してしまい辿り着くのが困難に、逆に小さすぎると変化量が小さすぎて最小値に辿り着くのが遅くなるというという点から、学習率を適切に定めることも学習を効率的かつデータを有効に扱うための一歩であると言えるだろう。  \n",
    "※一般的には画像認識のタスクなどでは0.1から0.01程度の値が最初に試されるとされている。\n",
    "\n",
    "### ミニバッチ学習法\n",
    "ニューラルネットワークで学習を行う際、全データ実行後に更新はせずに、いくつかのデータごとにまとめて入力し、それぞれの勾配の平均値を用いてパラメータを更新することが一般的である。これを**ミニバッチ学習**と呼ぶ。また、データはランダムに抽出して小さいグループに分割する。ランダムに抽出するサンプル数を**バッチサイズ**と呼び、バッチサイズごとに学習を行っていく。勾配降下法では**1エポック 1イテレーション**となるが、ミニバッチ学習を行う際には** 1エポック Nb(バッチサイズ)イテレーション**となる。このようなミニバッチ学習を用いた勾配降下法は特に、**確率的勾配降下法(SGD)**と呼ばれ、目的関数が複数の谷を持っていたとしても適当な条件のもとで局所的最適解に辿り着けるとされている。\n",
    "\n",
    "### 誤差逆伝播法\n",
    "ニューラルネットワークの出力を左(入力層)から右(出力層)へ順に解いていく工程を**順伝播**と呼ぶが、~~最適化のために重みの更新料を右(出力層)から各ノード(中間層)に向かって解いていく工程を**逆伝播**といい~~、目的関数の勾配を途中の関数(活性化関数)の勾配との掛け算を用いて解いていくアルゴリズムを**誤差逆伝播法(back-propagation)**という。\n",
    "\n",
    "#### おまけメモ\n",
    "交差エントロピーはlog以外は定数なので、微分積分共に非常に容易なので、確率的勾配降下法と非常に相性がいい。  \n",
    "$ log{(x)} $　を微分すると $ \\frac{1}{x} $、積分すると$ e^{(x)} $(その後何回微分積分しても変わらない)  　<cite>https://qiita.com/kenta1984/items/59a9ef1788e6934fd962</cite>"
   ]
  },
  {
   "cell_type": "markdown",
   "metadata": {},
   "source": [
    "# 実際にニューラルネットワークを構築・学習してみる\n",
    "***\n",
    "\n",
    "本項目では、実際にデータを使用しニューラルネットワークの構築および学習を行っていく。その中で以下のような目標を立てた。\n",
    "\n",
    "1. 実際にニューラルネットワークを構築する\n",
    "1. トレーニングデータとテストデータを作成する\n",
    "1. 実施する問題に応じた損失関数や目的関数を吟味する\n",
    "1. フィッティングを行い、層の数や結合について吟味し、最適化を行う(できるだけ)\n",
    "\n",
    "では、以降で実際にこれらのプログラムを作成していく。今回実際に解決を行う問題としては「ゲームの売り上げからの新規ゲーム評価」について行っていく。問題の種類としては、回帰問題となるため活性化関数は恒等関数(入力をそのまま返す|$ y = x $)を用いる。また、損失関数には平均二乗誤差を用いオプティマイザには確率的勾配降下法を、評価関数には平均絶対誤差を用いていく。\n",
    "\n",
    "https://www.tensorflow.org/tutorials/keras/regression?hl=ja"
   ]
  },
  {
   "cell_type": "code",
   "execution_count": null,
   "metadata": {
    "scrolled": false
   },
   "outputs": [],
   "source": [
    "# データの準備\n",
    "import pandas as pd\n",
    "\n",
    "df = pd.read_csv(\"./Datasets/vgsales.csv\")\n",
    "print(df)\n",
    "\n",
    "del df[\"Rank\"]\n",
    "del df[\"Name\"]\n",
    "del df[\"Year\"]\n",
    "del df[\"Genre\"]\n",
    "del df[\"Publisher\"]\n",
    "del df[\"Platform\"]\n",
    "print(df)\n",
    "#df[\"Genre\"] = df[\"Genre\"].astype(str)\n",
    "#df[\"Publisher\"] = df[\"Publisher\"].astype(str)\n",
    "\n",
    "#カテゴリをワンホットエンコーディングでダミー変数に変換\n",
    "df = pd.get_dummies(df)\n",
    "print(df.isna().sum())\n",
    "# 欠損値を除外\n",
    "df = df.dropna(how=\"any\")\n",
    "\n",
    "train_dataset = df.sample(frac=0.8, random_state=0)\n",
    "test_dataset = df.drop(train_dataset.index)\n",
    "print(train_dataset.shape,test_dataset.shape)\n",
    "\n",
    "train_stats = train_dataset.describe()\n",
    "train_stats.pop(\"Global_Sales\")\n",
    "train_stats = train_stats.transpose()\n",
    "\n",
    "print(train_stats)\n",
    "\n",
    "train_labels = train_dataset.pop('Global_Sales')\n",
    "test_labels = test_dataset.pop('Global_Sales')\n",
    "\n",
    "def norm(x):\n",
    "  return (x - train_stats['mean']) / train_stats['std']\n",
    "\n",
    "normed_train_data = norm(train_dataset)\n",
    "normed_test_data = norm(test_dataset)"
   ]
  },
  {
   "cell_type": "code",
   "execution_count": null,
   "metadata": {},
   "outputs": [],
   "source": [
    "# データの準備\n",
    "import pandas as pd\n",
    "\n",
    "df = pd.read_csv(\"./Datasets/bmw.csv\")\n",
    "\n",
    "del df[\"model\"]\n",
    "\n",
    "print(df)\n",
    "\n",
    "#カテゴリをワンホットエンコーディングでダミー変数に変換\n",
    "df = pd.get_dummies(df)\n",
    "print(\"NaNの有無(カテゴリ最大値を出力):\",df.isna().sum().max())\n",
    "# 欠損値を除外\n",
    "df = df.dropna(how=\"any\")\n",
    "\n",
    "#print(df)\n",
    "\n",
    "train_dataset = df.sample(frac=0.8, random_state=0)\n",
    "test_dataset = df.drop(train_dataset.index)\n",
    "\n",
    "train_stats = train_dataset.describe()\n",
    "train_stats.pop(\"price\")\n",
    "train_stats = train_stats.transpose()\n",
    "\n",
    "print(train_stats)\n",
    "\n",
    "train_labels = train_dataset.pop('price')\n",
    "test_labels = test_dataset.pop('price')\n",
    "\n",
    "def norm(x):\n",
    "  return (x - train_stats['mean']) / train_stats['std']\n",
    "\n",
    "normed_train_data = norm(train_dataset)\n",
    "normed_test_data = norm(test_dataset)"
   ]
  },
  {
   "cell_type": "code",
   "execution_count": null,
   "metadata": {
    "scrolled": false
   },
   "outputs": [],
   "source": [
    "# ニューラルネットワークを構築\n",
    "import tensorflow as tf\n",
    "from tensorflow import keras\n",
    "from keras.layers import Dense, Activation, Dropout\n",
    "from keras import optimizers\n",
    "import matplotlib.pyplot as plt\n",
    "%matplotlib inline\n",
    "\n",
    "normed_train_data.drop(1)\n",
    "N=normed_train_data.shape[1]\n",
    "\n",
    "def regressionModel():\n",
    "    model = keras.Sequential()\n",
    "    model.add(Dense(64, activation='relu', input_dim = N))\n",
    "    model.add(Dense(64, activation='relu'))\n",
    "    model.add(Dense(1))\n",
    "    \n",
    "    #モデルのコンパイル(mse:平均二乗誤差, sgd:確率的勾配降下法, mae:平均絶対誤差)\n",
    "    model.compile(loss=\"mse\", optimizer=\"rmsprop\",metrics=[\"mae\",\"mse\"])\n",
    "    model.summary()\n",
    "\n",
    "    return model\n",
    "\n",
    "model = regressionModel()\n",
    "\n",
    "# 学習データのうち２割を検証用に使う(validation_split)\n",
    "history = model.fit(normed_train_data ,train_labels, validation_split = 0.2, epochs=100, batch_size=32,verbose=0)\n",
    "score = model.evaluate(normed_test_data, test_labels, batch_size=1)"
   ]
  },
  {
   "cell_type": "code",
   "execution_count": null,
   "metadata": {
    "scrolled": false
   },
   "outputs": [],
   "source": [
    "# Historyオブジェクトの中身(history.history)を確認する\n",
    "# https://keras.io/ja/visualization/\n",
    "hist = pd.DataFrame(history.history)\n",
    "hist[\"epoch\"] = history.epoch\n",
    "hist.tail()"
   ]
  },
  {
   "cell_type": "code",
   "execution_count": null,
   "metadata": {
    "scrolled": false
   },
   "outputs": [],
   "source": [
    "def plot_history(history):\n",
    "    hist = pd.DataFrame(history.history)\n",
    "    hist['epoch'] = history.epoch\n",
    "\n",
    "    # 平均絶対誤差\n",
    "    plt.figure()\n",
    "    plt.xlabel('Epoch')\n",
    "    plt.ylabel('Mean Abs Error')\n",
    "    plt.plot(hist['epoch'], hist['mae'], label='Train Error')\n",
    "    plt.plot(hist['epoch'], hist['val_mae'], label = 'Val Error')\n",
    "    plt.legend()\n",
    "\n",
    "    # 平均二乗誤差\n",
    "    plt.figure()\n",
    "    plt.xlabel('Epoch')\n",
    "    plt.ylabel('Mean Square Error')\n",
    "    plt.plot(hist['epoch'], hist['mse'], label='Train Error')\n",
    "    plt.plot(hist['epoch'], hist['val_mse'], label = 'Val Error')\n",
    "    plt.legend()\n",
    "    plt.show()\n",
    "\n",
    "\n",
    "plot_history(history)"
   ]
  },
  {
   "cell_type": "code",
   "execution_count": null,
   "metadata": {},
   "outputs": [],
   "source": [
    "# モデルを使った予測\n",
    "test_predictions = model.predict(normed_test_data).flatten()\n",
    "\n",
    "# 誤差を図示する\n",
    "plt.scatter(test_labels, test_predictions)\n",
    "plt.xlabel('True Values')\n",
    "plt.ylabel('Predictions')\n",
    "plt.axis('equal')  #アスペクト比を1:1に\n",
    "plt.axis('square') #正方形のプロット\n",
    "#plt.xlim([0,plt.xlim()[1]])\n",
    "#plt.ylim([0,plt.ylim()[1]])\n",
    "_ = plt.plot([-100000, 100000], [-100000, 100000]) #直線表示"
   ]
  },
  {
   "cell_type": "code",
   "execution_count": null,
   "metadata": {
    "scrolled": true
   },
   "outputs": [],
   "source": [
    "# モデルを使った予測(誤差の分布)\n",
    "error = test_predictions - test_labels #誤差 = 予測値 - 正解(ラベル)\n",
    "plt.hist(error, bins = 50)\n",
    "plt.xlabel(\"Prediction Error\")\n",
    "_ = plt.ylabel(\"Count\")"
   ]
  },
  {
   "cell_type": "markdown",
   "metadata": {},
   "source": [
    "# 実際にニューラルネットワークを構築してみるその2\n",
    "***\n",
    "前章では回帰問題を実際にニューラルネットワークを構築して解いた。しかし、回帰問題とは目的関数が線形(線形回帰のため)になり、多層のネットワークを構築するという利点を生かしきれないという問題もあった。(入力次元数が多くなるごとに、重回帰分析では求めるパラメータが多くなるため、完全に無意味というわけではない。←疑似逆行列を求めて手計算で一気に求めるという手法もある)そこで、今回は**多クラス分類**の問題を実際にニューラルネットワークを構築して学習させることで、パーセプトロンを多層にすることの意義や実際の順伝播・逆伝播の計算についてより理解を深めるという目的を順に達成していこうと思う。\n",
    "\n",
    "今回用いるデータセットは以下の通りである。\n",
    "\n",
    "名前:Students' Academic Performance Dataset (xAPI-Edu-Data.csv)  \n",
    "入力次元数: 16  \n",
    "データ数: 480  \n",
    "参考元リンク:https://www.kaggle.com/aljarah/xAPI-Edu-Data  \n",
    "\n",
    "copyrights:  \n",
    "Amrieh, E. A., Hamtini, T., & Aljarah, I. (2016). Mining Educational Data to Predict Student’s academic Performance using Ensemble Methods. International Journal of Database Theory and Application, 9(8), 119-136.\n",
    "\n",
    "Amrieh, E. A., Hamtini, T., & Aljarah, I. (2015, November). Preprocessing and analyzing educational data set using X-API for improving student's performance. In Applied Electrical Engineering and Computing Technologies (AEECT), 2015 IEEE Jordan Conference on (pp. 1-5). IEEE."
   ]
  },
  {
   "cell_type": "code",
   "execution_count": 1,
   "metadata": {},
   "outputs": [],
   "source": [
    "import pandas as pd\n",
    "import seaborn as sns\n",
    "import matplotlib.pyplot as plt\n",
    "import numpy as np\n",
    "from tensorflow import keras\n",
    "from keras.layers import Dense, Activation, Dropout\n",
    "from keras import optimizers\n",
    "%matplotlib inline"
   ]
  },
  {
   "cell_type": "code",
   "execution_count": 2,
   "metadata": {
    "scrolled": false
   },
   "outputs": [
    {
     "name": "stdout",
     "output_type": "stream",
     "text": [
      "<class 'pandas.core.frame.DataFrame'>\n",
      "RangeIndex: 480 entries, 0 to 479\n",
      "Data columns (total 17 columns):\n",
      " #   Column                    Non-Null Count  Dtype \n",
      "---  ------                    --------------  ----- \n",
      " 0   gender                    480 non-null    object\n",
      " 1   NationalITy               480 non-null    object\n",
      " 2   PlaceofBirth              480 non-null    object\n",
      " 3   StageID                   480 non-null    object\n",
      " 4   GradeID                   480 non-null    object\n",
      " 5   SectionID                 480 non-null    object\n",
      " 6   Topic                     480 non-null    object\n",
      " 7   Semester                  480 non-null    object\n",
      " 8   Relation                  480 non-null    object\n",
      " 9   raisedhands               480 non-null    int64 \n",
      " 10  VisITedResources          480 non-null    int64 \n",
      " 11  AnnouncementsView         480 non-null    int64 \n",
      " 12  Discussion                480 non-null    int64 \n",
      " 13  ParentAnsweringSurvey     480 non-null    object\n",
      " 14  ParentschoolSatisfaction  480 non-null    object\n",
      " 15  StudentAbsenceDays        480 non-null    object\n",
      " 16  Class                     480 non-null    object\n",
      "dtypes: int64(4), object(13)\n",
      "memory usage: 63.9+ KB\n",
      "None\n"
     ]
    }
   ],
   "source": [
    "df = pd.read_csv(\"./Datasets/xAPI-Edu-Data.csv\")\n",
    "\n",
    "print(df.info())"
   ]
  },
  {
   "cell_type": "code",
   "execution_count": 3,
   "metadata": {},
   "outputs": [
    {
     "name": "stdout",
     "output_type": "stream",
     "text": [
      "Index(['gender', 'NationalITy', 'PlaceofBirth', 'StageID', 'GradeID',\n",
      "       'SectionID', 'Topic', 'Semester', 'Relation', 'raisedhands',\n",
      "       'VisITedResources', 'AnnouncementsView', 'Discussion',\n",
      "       'ParentAnsweringSurvey', 'ParentschoolSatisfaction',\n",
      "       'StudentAbsenceDays', 'Class'],\n",
      "      dtype='object')\n"
     ]
    }
   ],
   "source": [
    "print(df.columns)"
   ]
  },
  {
   "cell_type": "markdown",
   "metadata": {},
   "source": [
    "| # |   Column                   | Non-Null Count |  Dtype | type | mean |\n",
    "|:-:|:--------------------------:|:--------------:|:------:|:----:|:----:|\n",
    "| 0 |  gender                    |  480 non-null  | object | Male,Female | 学生の性別 |\n",
    "| 1 |  NationalITy               |  480 non-null  | object | Kuwait, Lebanon, Egypt, SaudiArabia,<br>USA, Jordan,Venezuela, Iran,<br>Tunis, Morocco, Syria, Palestine, Iraq, Lybia | 学生の国籍 |\n",
    "| 2 |  PlaceofBirth              |  480 non-null  | object | Kuwait, Lebanon, Egypt, SaudiArabia,<br>USA, Jordan,Venezuela, Iran,<br>Tunis, Morocco, Syria, Palestine, Iraq, Lybia | 学生の出生地 |\n",
    "| 3 |  StageID                   |  480 non-null  | object | lowerlevel,MiddleSchool,HighSchool 教育段階 |\n",
    "| 4 |  GradeID                   |  480 non-null  | object | G-01 to G-12 | 学年 |\n",
    "| 5 |  SectionID                 |  480 non-null  | object | A, B, C | 教室 |\n",
    "| 6 |  Topic                     |  480 non-null  | object | English, Spanish, French, Arabic, IT,Math,<br>Chemistry, Biology,Science, History, Quran, Geology | 科目 |\n",
    "| 7 |  Semester                  |  480 non-null  | object | First, Second | 学期 |\n",
    "| 8 |  Relation                  |  480 non-null  | object | mom, father | 担当した親 |\n",
    "| 9 |  raisedhands               |  480 non-null  | int64  | 0-100 | 挙手した回数 |\n",
    "| 10|  VisITedResources          |  480 non-null  | int64  | 0-100 | アクセスした回数 |\n",
    "| 11|  AnnouncementsView         |  480 non-null  | int64  | 0-100 | アナウンスのチェック回数 |\n",
    "| 12|  Discussion                |  480 non-null  | int64  | 0-100 | discussion参加回数 |\n",
    "| 13|  ParentAnsweringSurvey     |  480 non-null  | object | Yes, No | 親が調査に回答したか |\n",
    "| 14|  ParentschoolSatisfaction  |  480 non-null  | object | Good, Bad | 親が満足したか |\n",
    "| 15|  StudentAbsenceDays        |  480 non-null  | object | above-7, under-7 | 欠席日数 |\n",
    "| 16|  Class                     |  480 non-null  | object | Low-Level, Middle-Level, High-Level | 子供の該当するグレード |\n",
    "\n",
    "※ 16番のClassが正解ラベルとなる。また、割り当てについては下記の通りである。  \n",
    "\n",
    "><span style=\"font-size: 150%; color: black;\">The students are classified into three numerical intervals based on their total grade/mark:  </span><br>\n",
    "Low-Level: interval includes values from 0 to 69,  \n",
    "Middle-Level: interval includes values from 70 to 89,  \n",
    "High-Level: interval includes values from 90-100."
   ]
  },
  {
   "cell_type": "code",
   "execution_count": 4,
   "metadata": {
    "scrolled": false
   },
   "outputs": [
    {
     "data": {
      "image/png": "[encoded data removed]",
      "text/plain": [
       "<Figure size 1080x504 with 1 Axes>"
      ]
     },
     "metadata": {
      "needs_background": "light"
     },
     "output_type": "display_data"
    },
    {
     "name": "stdout",
     "output_type": "stream",
     "text": [
      "     Class     variable  value\n",
      "0        M  raisedhands     15\n",
      "1        M  raisedhands     20\n",
      "2        L  raisedhands     10\n",
      "3        L  raisedhands     30\n",
      "4        M  raisedhands     40\n",
      "...    ...          ...    ...\n",
      "1915     L   Discussion      8\n",
      "1916     M   Discussion     28\n",
      "1917     M   Discussion     29\n",
      "1918     L   Discussion     57\n",
      "1919     L   Discussion     62\n",
      "\n",
      "[1920 rows x 3 columns]\n"
     ]
    }
   ],
   "source": [
    "melt = pd.melt(df,id_vars='Class',value_vars=['raisedhands','VisITedResources','AnnouncementsView',\"Discussion\"])\n",
    "plt.figure(figsize=(15, 7))\n",
    "sns.swarmplot(x='variable',y='value',hue='Class' , data=melt ,palette={'H':'lime','M':'grey','L':'red'})\n",
    "plt.ylabel(\"Values\")\n",
    "plt.title(\"student level\")\n",
    "\n",
    "plt.show()\n",
    "print(melt)"
   ]
  },
  {
   "cell_type": "markdown",
   "metadata": {},
   "source": [
    "## カテゴリー値の数値化\n",
    "学習を行う際、計算はすべて数値をもとにしているため、入力データにカテゴリー値(文字列)を含むと学習できない。そのため、ワンホットエンコーディングを行う必要がある。今まではワンホットエンコーディングにpandas.get_dummies()を用いてきたが、numpyに「条件に応じた処理を行う」whereというものがあったためこちらを用いて行ってみる。"
   ]
  },
  {
   "cell_type": "code",
   "execution_count": 166,
   "metadata": {},
   "outputs": [],
   "source": [
    "#複数回実行すると値が全て0になるため、状態記憶用の変数stateを用意\n",
    "state = 1"
   ]
  },
  {
   "cell_type": "code",
   "execution_count": 167,
   "metadata": {},
   "outputs": [
    {
     "name": "stderr",
     "output_type": "stream",
     "text": [
      "C:\\Users\\genno\\anaconda3\\envs\\opencv\\lib\\site-packages\\pandas\\core\\indexing.py:1637: SettingWithCopyWarning: \n",
      "A value is trying to be set on a copy of a slice from a DataFrame\n",
      "\n",
      "See the caveats in the documentation: https://pandas.pydata.org/pandas-docs/stable/user_guide/indexing.html#returning-a-view-versus-a-copy\n",
      "  self._setitem_single_block(indexer, value, name)\n"
     ]
    }
   ],
   "source": [
    "if state == 1:\n",
    "    #print(df[\"StudentAbsenceDays\"])\n",
    "    df[\"StudentAbsenceDays\"] = np.where(df[\"StudentAbsenceDays\"] == \"Above-7\", 1, 0)\n",
    "    state += 1\n",
    "\n",
    "#print(\"教科ごとの欠席比較:\\n\",df[\"StudentAbsenceDays\"].groupby(df['Topic']).mean())\n",
    "\n",
    "if state == 2:\n",
    "    #print(df[\"gender\"])\n",
    "    df[\"gender\"] = np.where(df[\"gender\"] == \"M\", 1, 0)\n",
    "    state += 1\n",
    "\n",
    "#print(\"教科ごとの男女比較:\\n\",df[\"gender\"].groupby(df['Topic']).mean())\n",
    "\n",
    "if state == 3:\n",
    "    #print(df[\"Semester\"])\n",
    "    df[\"Semester\"] = np.where(df[\"Semester\"] == \"F\", 1, 2)\n",
    "    state += 1\n",
    "    \n",
    "if state == 4:\n",
    "    #print(df[\"Relation\"])\n",
    "    df[\"Relation\"] = np.where(df[\"Relation\"] == \"Father\", 1, 0)\n",
    "    state += 1\n",
    "    \n",
    "if state == 5:\n",
    "    #print(df[\"ParentAnsweringSurvey\"])\n",
    "    df[\"ParentAnsweringSurvey\"] = np.where(df[\"ParentAnsweringSurvey\"] == \"Yes\", 1, 0)\n",
    "    state += 1\n",
    "\n",
    "if state == 6:\n",
    "    #print(df[\"ParentschoolSatisfaction\"])\n",
    "    df[\"ParentschoolSatisfaction\"] = np.where(df[\"ParentschoolSatisfaction\"] == \"Good\", 1, 0)\n",
    "    state += 1\n",
    "\n",
    "if state == 7:\n",
    "    try:\n",
    "        df['Class'].loc[df['Class'] == 'L'] = 0\n",
    "        df['Class'].loc[df['Class'] == 'M'] = 1\n",
    "        df['Class'].loc[df['Class'] == 'H'] = 2\n",
    "        state += 1\n",
    "        df = df.astype({\"Class\":int})\n",
    "    except SettingWithCopyWarning:\n",
    "        state -= 1"
   ]
  },
  {
   "cell_type": "code",
   "execution_count": 168,
   "metadata": {},
   "outputs": [],
   "source": [
    "del df[\"NationalITy\"]\n",
    "del df[\"PlaceofBirth\"]"
   ]
  },
  {
   "cell_type": "markdown",
   "metadata": {},
   "source": [
    "# one-hot エンコーディングの意義と注意点\n",
    "\n",
    "ここでは、カテゴリ値を順伝播計算に用いるための数値に変換する**one-hotエンコーディング**について概要とそのやり方、注意点について所感を交え記していく。まずone-hotエンコーディングの定義は以下の通りだ。\n",
    ">one-hotエンコーディングはしばしば状態機械の状態を表すのに用いられる。二進法やグレイコードを使うときにはその状態を決定するためにデコードが必要だが、one-hotを使うときには不要である。というのも、one-hotではビット列のn番目のビットがHighであればn番目の状態を表していることになるからである。\n",
    "><cite>https://ja.wikipedia.org/wiki/One-hot</cite>\n",
    "\n",
    "上の例ではよくわからないだろう。では、実際の例を参考により具体的に記していこう。\n",
    "\n",
    "| No. | 性別 | 科目 |\n",
    "|:---:|:----:|:----:|\n",
    "|  1  |  男  | 数学 |\n",
    "|  2  |  女  | 科学 |\n",
    "|  3  |  女  | 数学 |\n",
    "|  4  |  男  | 地理 |\n",
    "\n",
    "上のような例で考えてみよう。列:性別には男と女という2つのカテゴリが存在し、列:科目には数学,科学,地理という3つのカテゴリが存在する。ここであえて言うまでもないとは思うが、それぞれの値は文字列型であるため数値計算に用いることは不可能である。では、このような場合にどのような処理をすればよいか。これには２つの手法が考えられる。\n",
    "\n",
    "1. 0もしくは1の値に入れ替える\n",
    "2. 対象の列をカテゴリの状態列へと変換する\n",
    "\n",
    "以上がone-hotエンコーディングを行う際に考えられる手法だ。では、どのように使い分けるか。それは非常に単純である。  \n",
    "**カテゴリが２種類であれば1つ目**を**それ以上であれば2つ目**を用いればよい。  \n",
    "つまり、列:性別は現状男か女の２種類しかないため男であれば1,女であれば0もしくはその逆の値へと変換してやればよい。実際に上の例を男であるならば特徴量は1,女であれば特徴量は0というように変換してみると,\n",
    "\n",
    "| No. | 性別 | 科目 |\n",
    "|:---:|:----:|:----:|\n",
    "|  1  |   1  | 数学 |\n",
    "|  2  |   0  | 科学 |\n",
    "|  3  |   0  | 数学 |\n",
    "|  4  |   1  | 地理 |\n",
    "\n",
    "このように変換できるだろう。これが先の引用にあった状態機械の状態を指すものだ。厳密にいえば性別を状態と呼ぶのはいささか違和感を感じるが、2つの状態(カテゴリ)のうちのどちらかという認識をしようということで茶を濁しておく。また、付け加えると「one-hotではビット列のn番目のビットがHighであればn番目の状態を表していることになる」とあるが、、これを上の例で言語するのであれば、「No 番目の性別がHigh(1)であれば No 番目の人物の性別は男であることを表していることになる」という風に言えるだろう。  \n",
    "　では、少々長くなってしまったが、2つ目の手法について実例をあげていこう。列:科目は3つの種類があるのだから、2番目の手法を用いるのが妥当だろう。上の説明では「カテゴリの状態列へと変換?」と感じただろう。正直適切な説明が思い浮かばなかったという本音があるが、先の状態機械(0か1かで表す)ということを踏まえると、ただ1列で3つの状態を表すことは不可能だ。そこで、以下のように変換することでその問題を解決する。\n",
    "\n",
    "| No. | 性別 | 数学 | 科学 | 地理 |\n",
    "|:---:|:----:|:----:|:----:|:----:|\n",
    "|  1  |   1  |   1  |   0  |   0  |\n",
    "|  2  |   0  |   0  |   1  |   0  |\n",
    "|  3  |   0  |   1  |   0  |   0  |\n",
    "|  4  |   1  |   0  |   0  |   1  |\n",
    "\n",
    "お分かり頂けただろうか。つまり、対象列をカテゴリごとの列へと変換し、その状態であるか否かで表すのだ。ここで重要なのは、変換後のデータが**行成分をすべて足すと必ず1になる**ということだ。状態機械が理解できていれば何も違和感は感じないだろうが、そうでない人はもう一度頭を整理してみてほしい。列:科目では**1人につき1科目**であった。つまり、もし変換後の行成分を足して2になったとするのなら、それは1人についき2科目該当するということに他ならない。そのため、2の手法では必ず**変換後の行成分を足すと和は1となる(1+0+,,,+0)**。もう一つ、ここまで説明したら分かってはいると思うが、状態機械なのだから0.5だとか2だとか**0と1以外の値は出てこない**。数学を0.5とるだとか、地理を2人分とるだとか、そんなことはないだろう。というか、今回の場合で言えばその科目を**とった(1)かとってないか(0)**の2択なのだからまあまずありえないとわかっていただけるだろう。\n",
    "\n",
    "　ここまでone-hotエンコーディングの概要と手法について説明したが、「別に全部2のやり方でよくね？」と思うかもしれない。確かに変換自体はすべて2のやり方でできるが、本来であれば学習を難しくする入力成分は余計に多くなることは避けたい。もちろん、必要な入力成分については多ければ多いほどより適切な解へと辿りつけるだろう。しかし、よく考えてほしいのは、男か女かというのは元は1つの性別というデータであり、そこで入力成分を増やしてところで得られるメリットはデメリットを下回るだろうということだ。重みづけというのは、データ群における特徴量の重要性を数値的に表したものともいえるため、その重要性を比で表せるのであれば無駄に列を増やす必要はないのだ。もしかすると、「入力データが0の時、どんな重みをかけても0になるんだからせっかく重み付けしても状態0の場合意味ないじゃん」と思うかもしれない。しかし、ここで大事なのは1の時のデータ基準として比率を考えるという点だ。\n",
    "\n",
    " もう1つ、やりがちなミスとしては、例えばカテゴリ値がG-01,G-02,・・・,G-NNという風にカテゴリ値の中に数値が含まれている場合、値を1,2,・・・,NNという風に変換したくなると思うが、**同じ重みwをかける**という点に注意していただきたい。G-01に所属していた時に発火しやすいということが分かった場合、どんなに頑張っても正の数をかけるとG-NNの特徴量が一番大きくなってしまうのだ。かといって負の数をかけるのは最適とは言えないだろう。one-hotエンコーディングのようにカテゴリ値を数値に変換する際には実際の挙動を予測して慎重に手法を選ぶと良いだろう。"
   ]
  },
  {
   "cell_type": "code",
   "execution_count": 7,
   "metadata": {},
   "outputs": [
    {
     "name": "stdout",
     "output_type": "stream",
     "text": [
      "248\n"
     ]
    }
   ],
   "source": [
    "print((df[\"NationalITy\"]==df[\"PlaceofBirth\"]).sum())\n",
    "# np.whereを用いるとdtypeも同時に変更される\n",
    "# そうでない場合(state==9を参照)はastypeによって手動で変更する必要がある\n",
    "#df.info()"
   ]
  },
  {
   "cell_type": "code",
   "execution_count": 8,
   "metadata": {},
   "outputs": [
    {
     "name": "stdout",
     "output_type": "stream",
     "text": [
      "(480, 17)\n"
     ]
    }
   ],
   "source": [
    "print(df.shape)"
   ]
  },
  {
   "cell_type": "code",
   "execution_count": 169,
   "metadata": {},
   "outputs": [
    {
     "name": "stdout",
     "output_type": "stream",
     "text": [
      "Index(['gender', 'Semester', 'Relation', 'raisedhands', 'VisITedResources',\n",
      "       'AnnouncementsView', 'Discussion', 'ParentAnsweringSurvey',\n",
      "       'ParentschoolSatisfaction', 'StudentAbsenceDays', 'Class',\n",
      "       'StageID_HighSchool', 'StageID_MiddleSchool', 'StageID_lowerlevel',\n",
      "       'GradeID_G-02', 'GradeID_G-04', 'GradeID_G-05', 'GradeID_G-06',\n",
      "       'GradeID_G-07', 'GradeID_G-08', 'GradeID_G-09', 'GradeID_G-10',\n",
      "       'GradeID_G-11', 'GradeID_G-12', 'SectionID_A', 'SectionID_B',\n",
      "       'SectionID_C', 'Topic_Arabic', 'Topic_Biology', 'Topic_Chemistry',\n",
      "       'Topic_English', 'Topic_French', 'Topic_Geology', 'Topic_History',\n",
      "       'Topic_IT', 'Topic_Math', 'Topic_Quran', 'Topic_Science',\n",
      "       'Topic_Spanish'],\n",
      "      dtype='object')\n"
     ]
    },
    {
     "data": {
      "text/html": [
       "<div>\n",
       "<style scoped>\n",
       "    .dataframe tbody tr th:only-of-type {\n",
       "        vertical-align: middle;\n",
       "    }\n",
       "\n",
       "    .dataframe tbody tr th {\n",
       "        vertical-align: top;\n",
       "    }\n",
       "\n",
       "    .dataframe thead th {\n",
       "        text-align: right;\n",
       "    }\n",
       "</style>\n",
       "<table border=\"1\" class=\"dataframe\">\n",
       "  <thead>\n",
       "    <tr style=\"text-align: right;\">\n",
       "      <th></th>\n",
       "      <th>gender</th>\n",
       "      <th>Semester</th>\n",
       "      <th>Relation</th>\n",
       "      <th>raisedhands</th>\n",
       "      <th>VisITedResources</th>\n",
       "      <th>AnnouncementsView</th>\n",
       "      <th>Discussion</th>\n",
       "      <th>ParentAnsweringSurvey</th>\n",
       "      <th>ParentschoolSatisfaction</th>\n",
       "      <th>StudentAbsenceDays</th>\n",
       "      <th>...</th>\n",
       "      <th>Topic_Chemistry</th>\n",
       "      <th>Topic_English</th>\n",
       "      <th>Topic_French</th>\n",
       "      <th>Topic_Geology</th>\n",
       "      <th>Topic_History</th>\n",
       "      <th>Topic_IT</th>\n",
       "      <th>Topic_Math</th>\n",
       "      <th>Topic_Quran</th>\n",
       "      <th>Topic_Science</th>\n",
       "      <th>Topic_Spanish</th>\n",
       "    </tr>\n",
       "  </thead>\n",
       "  <tbody>\n",
       "    <tr>\n",
       "      <th>475</th>\n",
       "      <td>0</td>\n",
       "      <td>2</td>\n",
       "      <td>1</td>\n",
       "      <td>5</td>\n",
       "      <td>4</td>\n",
       "      <td>5</td>\n",
       "      <td>8</td>\n",
       "      <td>0</td>\n",
       "      <td>0</td>\n",
       "      <td>1</td>\n",
       "      <td>...</td>\n",
       "      <td>1</td>\n",
       "      <td>0</td>\n",
       "      <td>0</td>\n",
       "      <td>0</td>\n",
       "      <td>0</td>\n",
       "      <td>0</td>\n",
       "      <td>0</td>\n",
       "      <td>0</td>\n",
       "      <td>0</td>\n",
       "      <td>0</td>\n",
       "    </tr>\n",
       "    <tr>\n",
       "      <th>476</th>\n",
       "      <td>0</td>\n",
       "      <td>1</td>\n",
       "      <td>1</td>\n",
       "      <td>50</td>\n",
       "      <td>77</td>\n",
       "      <td>14</td>\n",
       "      <td>28</td>\n",
       "      <td>0</td>\n",
       "      <td>0</td>\n",
       "      <td>0</td>\n",
       "      <td>...</td>\n",
       "      <td>0</td>\n",
       "      <td>0</td>\n",
       "      <td>0</td>\n",
       "      <td>1</td>\n",
       "      <td>0</td>\n",
       "      <td>0</td>\n",
       "      <td>0</td>\n",
       "      <td>0</td>\n",
       "      <td>0</td>\n",
       "      <td>0</td>\n",
       "    </tr>\n",
       "    <tr>\n",
       "      <th>477</th>\n",
       "      <td>0</td>\n",
       "      <td>2</td>\n",
       "      <td>1</td>\n",
       "      <td>55</td>\n",
       "      <td>74</td>\n",
       "      <td>25</td>\n",
       "      <td>29</td>\n",
       "      <td>0</td>\n",
       "      <td>0</td>\n",
       "      <td>0</td>\n",
       "      <td>...</td>\n",
       "      <td>0</td>\n",
       "      <td>0</td>\n",
       "      <td>0</td>\n",
       "      <td>1</td>\n",
       "      <td>0</td>\n",
       "      <td>0</td>\n",
       "      <td>0</td>\n",
       "      <td>0</td>\n",
       "      <td>0</td>\n",
       "      <td>0</td>\n",
       "    </tr>\n",
       "    <tr>\n",
       "      <th>478</th>\n",
       "      <td>0</td>\n",
       "      <td>1</td>\n",
       "      <td>1</td>\n",
       "      <td>30</td>\n",
       "      <td>17</td>\n",
       "      <td>14</td>\n",
       "      <td>57</td>\n",
       "      <td>0</td>\n",
       "      <td>0</td>\n",
       "      <td>1</td>\n",
       "      <td>...</td>\n",
       "      <td>0</td>\n",
       "      <td>0</td>\n",
       "      <td>0</td>\n",
       "      <td>0</td>\n",
       "      <td>1</td>\n",
       "      <td>0</td>\n",
       "      <td>0</td>\n",
       "      <td>0</td>\n",
       "      <td>0</td>\n",
       "      <td>0</td>\n",
       "    </tr>\n",
       "    <tr>\n",
       "      <th>479</th>\n",
       "      <td>0</td>\n",
       "      <td>2</td>\n",
       "      <td>1</td>\n",
       "      <td>35</td>\n",
       "      <td>14</td>\n",
       "      <td>23</td>\n",
       "      <td>62</td>\n",
       "      <td>0</td>\n",
       "      <td>0</td>\n",
       "      <td>1</td>\n",
       "      <td>...</td>\n",
       "      <td>0</td>\n",
       "      <td>0</td>\n",
       "      <td>0</td>\n",
       "      <td>0</td>\n",
       "      <td>1</td>\n",
       "      <td>0</td>\n",
       "      <td>0</td>\n",
       "      <td>0</td>\n",
       "      <td>0</td>\n",
       "      <td>0</td>\n",
       "    </tr>\n",
       "  </tbody>\n",
       "</table>\n",
       "<p>5 rows × 39 columns</p>\n",
       "</div>"
      ],
      "text/plain": [
       "     gender  Semester  Relation  raisedhands  VisITedResources  \\\n",
       "475       0         2         1            5                 4   \n",
       "476       0         1         1           50                77   \n",
       "477       0         2         1           55                74   \n",
       "478       0         1         1           30                17   \n",
       "479       0         2         1           35                14   \n",
       "\n",
       "     AnnouncementsView  Discussion  ParentAnsweringSurvey  \\\n",
       "475                  5           8                      0   \n",
       "476                 14          28                      0   \n",
       "477                 25          29                      0   \n",
       "478                 14          57                      0   \n",
       "479                 23          62                      0   \n",
       "\n",
       "     ParentschoolSatisfaction  StudentAbsenceDays  ...  Topic_Chemistry  \\\n",
       "475                         0                   1  ...                1   \n",
       "476                         0                   0  ...                0   \n",
       "477                         0                   0  ...                0   \n",
       "478                         0                   1  ...                0   \n",
       "479                         0                   1  ...                0   \n",
       "\n",
       "     Topic_English  Topic_French  Topic_Geology  Topic_History  Topic_IT  \\\n",
       "475              0             0              0              0         0   \n",
       "476              0             0              1              0         0   \n",
       "477              0             0              1              0         0   \n",
       "478              0             0              0              1         0   \n",
       "479              0             0              0              1         0   \n",
       "\n",
       "     Topic_Math  Topic_Quran  Topic_Science  Topic_Spanish  \n",
       "475           0            0              0              0  \n",
       "476           0            0              0              0  \n",
       "477           0            0              0              0  \n",
       "478           0            0              0              0  \n",
       "479           0            0              0              0  \n",
       "\n",
       "[5 rows x 39 columns]"
      ]
     },
     "execution_count": 169,
     "metadata": {},
     "output_type": "execute_result"
    }
   ],
   "source": [
    "df = pd.get_dummies(df)\n",
    "print(df.columns)\n",
    "df.tail()"
   ]
  },
  {
   "cell_type": "code",
   "execution_count": 170,
   "metadata": {},
   "outputs": [
    {
     "name": "stdout",
     "output_type": "stream",
     "text": [
      "                          count       mean        std  min    25%   50%  \\\n",
      "gender                    384.0   0.640625   0.480443  0.0   0.00   1.0   \n",
      "Semester                  384.0   1.494792   0.500625  1.0   1.00   1.0   \n",
      "Relation                  384.0   0.593750   0.491773  0.0   0.00   1.0   \n",
      "raisedhands               384.0  46.908854  30.545853  0.0  15.75  50.0   \n",
      "VisITedResources          384.0  55.044271  32.751786  0.0  20.00  65.0   \n",
      "AnnouncementsView         384.0  37.783854  26.726497  0.0  14.75  33.0   \n",
      "Discussion                384.0  43.703125  28.000474  1.0  20.00  39.0   \n",
      "ParentAnsweringSurvey     384.0   0.554688   0.497649  0.0   0.00   1.0   \n",
      "ParentschoolSatisfaction  384.0   0.606771   0.489104  0.0   0.00   1.0   \n",
      "StudentAbsenceDays        384.0   0.403646   0.491268  0.0   0.00   0.0   \n",
      "Class                     384.0   1.036458   0.743096  0.0   0.00   1.0   \n",
      "StageID_HighSchool        384.0   0.075521   0.264575  0.0   0.00   0.0   \n",
      "StageID_MiddleSchool      384.0   0.520833   0.500218  0.0   0.00   1.0   \n",
      "StageID_lowerlevel        384.0   0.403646   0.491268  0.0   0.00   0.0   \n",
      "GradeID_G-02              384.0   0.289062   0.453918  0.0   0.00   0.0   \n",
      "GradeID_G-04              384.0   0.106771   0.309225  0.0   0.00   0.0   \n",
      "GradeID_G-05              384.0   0.007812   0.088157  0.0   0.00   0.0   \n",
      "GradeID_G-06              384.0   0.065104   0.247031  0.0   0.00   0.0   \n",
      "GradeID_G-07              384.0   0.218750   0.413938  0.0   0.00   0.0   \n",
      "GradeID_G-08              384.0   0.236979   0.425784  0.0   0.00   0.0   \n",
      "GradeID_G-09              384.0   0.010417   0.101662  0.0   0.00   0.0   \n",
      "GradeID_G-10              384.0   0.010417   0.101662  0.0   0.00   0.0   \n",
      "GradeID_G-11              384.0   0.028646   0.167027  0.0   0.00   0.0   \n",
      "GradeID_G-12              384.0   0.026042   0.159467  0.0   0.00   0.0   \n",
      "SectionID_A               384.0   0.585938   0.493202  0.0   0.00   1.0   \n",
      "SectionID_B               384.0   0.351562   0.478081  0.0   0.00   0.0   \n",
      "SectionID_C               384.0   0.062500   0.242377  0.0   0.00   0.0   \n",
      "Topic_Arabic              384.0   0.119792   0.325141  0.0   0.00   0.0   \n",
      "Topic_Biology             384.0   0.067708   0.251573  0.0   0.00   0.0   \n",
      "Topic_Chemistry           384.0   0.049479   0.217149  0.0   0.00   0.0   \n",
      "Topic_English             384.0   0.096354   0.295461  0.0   0.00   0.0   \n",
      "Topic_French              384.0   0.125000   0.331150  0.0   0.00   0.0   \n",
      "Topic_Geology             384.0   0.044271   0.205965  0.0   0.00   0.0   \n",
      "Topic_History             384.0   0.036458   0.187672  0.0   0.00   0.0   \n",
      "Topic_IT                  384.0   0.190104   0.392895  0.0   0.00   0.0   \n",
      "Topic_Math                384.0   0.049479   0.217149  0.0   0.00   0.0   \n",
      "Topic_Quran               384.0   0.052083   0.222485  0.0   0.00   0.0   \n",
      "Topic_Science             384.0   0.106771   0.309225  0.0   0.00   0.0   \n",
      "Topic_Spanish             384.0   0.062500   0.242377  0.0   0.00   0.0   \n",
      "\n",
      "                            75%    max  \n",
      "gender                     1.00    1.0  \n",
      "Semester                   2.00    2.0  \n",
      "Relation                   1.00    1.0  \n",
      "raisedhands               74.25  100.0  \n",
      "VisITedResources          84.00   98.0  \n",
      "AnnouncementsView         58.00   98.0  \n",
      "Discussion                70.00   99.0  \n",
      "ParentAnsweringSurvey      1.00    1.0  \n",
      "ParentschoolSatisfaction   1.00    1.0  \n",
      "StudentAbsenceDays         1.00    1.0  \n",
      "Class                      2.00    2.0  \n",
      "StageID_HighSchool         0.00    1.0  \n",
      "StageID_MiddleSchool       1.00    1.0  \n",
      "StageID_lowerlevel         1.00    1.0  \n",
      "GradeID_G-02               1.00    1.0  \n",
      "GradeID_G-04               0.00    1.0  \n",
      "GradeID_G-05               0.00    1.0  \n",
      "GradeID_G-06               0.00    1.0  \n",
      "GradeID_G-07               0.00    1.0  \n",
      "GradeID_G-08               0.00    1.0  \n",
      "GradeID_G-09               0.00    1.0  \n",
      "GradeID_G-10               0.00    1.0  \n",
      "GradeID_G-11               0.00    1.0  \n",
      "GradeID_G-12               0.00    1.0  \n",
      "SectionID_A                1.00    1.0  \n",
      "SectionID_B                1.00    1.0  \n",
      "SectionID_C                0.00    1.0  \n",
      "Topic_Arabic               0.00    1.0  \n",
      "Topic_Biology              0.00    1.0  \n",
      "Topic_Chemistry            0.00    1.0  \n",
      "Topic_English              0.00    1.0  \n",
      "Topic_French               0.00    1.0  \n",
      "Topic_Geology              0.00    1.0  \n",
      "Topic_History              0.00    1.0  \n",
      "Topic_IT                   0.00    1.0  \n",
      "Topic_Math                 0.00    1.0  \n",
      "Topic_Quran                0.00    1.0  \n",
      "Topic_Science              0.00    1.0  \n",
      "Topic_Spanish              0.00    1.0  \n"
     ]
    }
   ],
   "source": [
    "train_dataset = df.sample(frac=0.8, random_state=0)\n",
    "test_dataset = df.drop(train_dataset.index)\n",
    "\n",
    "train_stats = train_dataset.describe()\n",
    "#train_stats.pop(\"Class\")\n",
    "train_stats = train_stats.transpose()\n",
    "\n",
    "print(train_stats)\n",
    "\n",
    "train_labels = train_dataset.pop(\"Class\")\n",
    "test_labels = test_dataset.pop(\"Class\")"
   ]
  },
  {
   "cell_type": "code",
   "execution_count": 9,
   "metadata": {
    "scrolled": false
   },
   "outputs": [
    {
     "ename": "NameError",
     "evalue": "name 'train_dataset' is not defined",
     "output_type": "error",
     "traceback": [
      "\u001b[1;31m---------------------------------------------------------------------------\u001b[0m",
      "\u001b[1;31mNameError\u001b[0m                                 Traceback (most recent call last)",
      "\u001b[1;32m<ipython-input-9-e164f503a582>\u001b[0m in \u001b[0;36m<module>\u001b[1;34m\u001b[0m\n\u001b[0;32m      1\u001b[0m \u001b[1;31m# ネットワークを構築\u001b[0m\u001b[1;33m\u001b[0m\u001b[1;33m\u001b[0m\u001b[1;33m\u001b[0m\u001b[0m\n\u001b[1;32m----> 2\u001b[1;33m \u001b[0mN\u001b[0m \u001b[1;33m=\u001b[0m \u001b[0mtrain_dataset\u001b[0m\u001b[1;33m.\u001b[0m\u001b[0mshape\u001b[0m\u001b[1;33m[\u001b[0m\u001b[1;36m1\u001b[0m\u001b[1;33m]\u001b[0m\u001b[1;33m\u001b[0m\u001b[1;33m\u001b[0m\u001b[0m\n\u001b[0m\u001b[0;32m      3\u001b[0m \u001b[0mprint\u001b[0m\u001b[1;33m(\u001b[0m\u001b[0mN\u001b[0m\u001b[1;33m)\u001b[0m\u001b[1;33m\u001b[0m\u001b[1;33m\u001b[0m\u001b[0m\n\u001b[0;32m      4\u001b[0m \u001b[1;33m\u001b[0m\u001b[0m\n\u001b[0;32m      5\u001b[0m \u001b[1;32mdef\u001b[0m \u001b[0mmulti_classing_NN\u001b[0m\u001b[1;33m(\u001b[0m\u001b[1;33m)\u001b[0m\u001b[1;33m:\u001b[0m\u001b[1;33m\u001b[0m\u001b[1;33m\u001b[0m\u001b[0m\n",
      "\u001b[1;31mNameError\u001b[0m: name 'train_dataset' is not defined"
     ]
    }
   ],
   "source": [
    "# ネットワークを構築\n",
    "N = train_dataset.shape[1]\n",
    "print(N)\n",
    "\n",
    "def multi_classing_NN():\n",
    "    model = keras.Sequential()\n",
    "    model.add(Dense(32, activation=\"relu\", input_dim = N))\n",
    "    model.add(Dropout(0.2))\n",
    "    model.add(Dense(8, activation=\"relu\"))\n",
    "    model.add(Dropout(0.2))\n",
    "    model.add(Dense(3, activation=\"softmax\"))\n",
    "    \n",
    "    #モデルのコンパイル()\n",
    "    model.compile(loss=\"categorical_crossentropy\", optimizer=\"rmsprop\",metrics=[\"accuracy\"])\n",
    "    model.summary()\n",
    "\n",
    "    return model\n",
    "\n",
    "model = multi_classing_NN()"
   ]
  },
  {
   "cell_type": "code",
   "execution_count": 172,
   "metadata": {},
   "outputs": [
    {
     "data": {
      "text/plain": [
       "array([[0., 1., 0.],\n",
       "       [1., 0., 0.],\n",
       "       [1., 0., 0.],\n",
       "       ...,\n",
       "       [0., 1., 0.],\n",
       "       [1., 0., 0.],\n",
       "       [0., 1., 0.]], dtype=float32)"
      ]
     },
     "execution_count": 172,
     "metadata": {},
     "output_type": "execute_result"
    }
   ],
   "source": [
    "import tensorflow.keras.utils\n",
    "y_train = keras.utils.to_categorical(train_labels)\n",
    "y_test =  keras.utils.to_categorical(test_labels)\n",
    "# cross_entropyのために正解ラベルもone-hotエンコーディングする必要がある\n",
    "# https://keras.io/ja/utils/\n",
    "y_train"
   ]
  },
  {
   "cell_type": "code",
   "execution_count": 536,
   "metadata": {},
   "outputs": [
    {
     "name": "stdout",
     "output_type": "stream",
     "text": [
      " 1/96 [..............................] - ETA: 0s - loss: 1.2489 - accuracy: 0.0000e+00WARNING:tensorflow:Callbacks method `on_test_batch_end` is slow compared to the batch time (batch time: 0.0000s vs `on_test_batch_end` time: 0.0010s). Check your callbacks.\n",
      "96/96 [==============================] - 0s 646us/step - loss: 0.7045 - accuracy: 0.7292\n"
     ]
    }
   ],
   "source": [
    "# 学習データのうち２割を検証用に使う(validation_split)\n",
    "history = model.fit(train_dataset ,y_train, validation_split = 0.2, epochs=100, batch_size=5,verbose=0)\n",
    "score = model.evaluate(test_dataset,y_test, batch_size=1)"
   ]
  },
  {
   "cell_type": "code",
   "execution_count": 537,
   "metadata": {},
   "outputs": [
    {
     "data": {
      "text/html": [
       "<div>\n",
       "<style scoped>\n",
       "    .dataframe tbody tr th:only-of-type {\n",
       "        vertical-align: middle;\n",
       "    }\n",
       "\n",
       "    .dataframe tbody tr th {\n",
       "        vertical-align: top;\n",
       "    }\n",
       "\n",
       "    .dataframe thead th {\n",
       "        text-align: right;\n",
       "    }\n",
       "</style>\n",
       "<table border=\"1\" class=\"dataframe\">\n",
       "  <thead>\n",
       "    <tr style=\"text-align: right;\">\n",
       "      <th></th>\n",
       "      <th>loss</th>\n",
       "      <th>accuracy</th>\n",
       "      <th>val_loss</th>\n",
       "      <th>val_accuracy</th>\n",
       "      <th>epoch</th>\n",
       "    </tr>\n",
       "  </thead>\n",
       "  <tbody>\n",
       "    <tr>\n",
       "      <th>95</th>\n",
       "      <td>0.419198</td>\n",
       "      <td>0.807818</td>\n",
       "      <td>0.821991</td>\n",
       "      <td>0.792208</td>\n",
       "      <td>95</td>\n",
       "    </tr>\n",
       "    <tr>\n",
       "      <th>96</th>\n",
       "      <td>0.465888</td>\n",
       "      <td>0.781759</td>\n",
       "      <td>0.790368</td>\n",
       "      <td>0.779221</td>\n",
       "      <td>96</td>\n",
       "    </tr>\n",
       "    <tr>\n",
       "      <th>97</th>\n",
       "      <td>0.482857</td>\n",
       "      <td>0.785016</td>\n",
       "      <td>0.811575</td>\n",
       "      <td>0.753247</td>\n",
       "      <td>97</td>\n",
       "    </tr>\n",
       "    <tr>\n",
       "      <th>98</th>\n",
       "      <td>0.457473</td>\n",
       "      <td>0.788274</td>\n",
       "      <td>0.747473</td>\n",
       "      <td>0.714286</td>\n",
       "      <td>98</td>\n",
       "    </tr>\n",
       "    <tr>\n",
       "      <th>99</th>\n",
       "      <td>0.486589</td>\n",
       "      <td>0.814332</td>\n",
       "      <td>0.707178</td>\n",
       "      <td>0.727273</td>\n",
       "      <td>99</td>\n",
       "    </tr>\n",
       "  </tbody>\n",
       "</table>\n",
       "</div>"
      ],
      "text/plain": [
       "        loss  accuracy  val_loss  val_accuracy  epoch\n",
       "95  0.419198  0.807818  0.821991      0.792208     95\n",
       "96  0.465888  0.781759  0.790368      0.779221     96\n",
       "97  0.482857  0.785016  0.811575      0.753247     97\n",
       "98  0.457473  0.788274  0.747473      0.714286     98\n",
       "99  0.486589  0.814332  0.707178      0.727273     99"
      ]
     },
     "execution_count": 537,
     "metadata": {},
     "output_type": "execute_result"
    }
   ],
   "source": [
    "# Historyオブジェクトの中身(history.history)を確認する\n",
    "# https://keras.io/ja/visualization/\n",
    "hist = pd.DataFrame(history.history)\n",
    "hist[\"epoch\"] = history.epoch\n",
    "hist.tail()"
   ]
  },
  {
   "cell_type": "code",
   "execution_count": 538,
   "metadata": {
    "scrolled": false
   },
   "outputs": [
    {
     "data": {
      "image/png": "[encoded data removed]",
      "text/plain": [
       "<Figure size 432x288 with 1 Axes>"
      ]
     },
     "metadata": {
      "needs_background": "light"
     },
     "output_type": "display_data"
    },
    {
     "data": {
      "image/png": "[encoded data removed]",
      "text/plain": [
       "<Figure size 432x288 with 1 Axes>"
      ]
     },
     "metadata": {
      "needs_background": "light"
     },
     "output_type": "display_data"
    }
   ],
   "source": [
    "def plot_history(history):\n",
    "    hist = pd.DataFrame(history.history)\n",
    "    hist['epoch'] = history.epoch\n",
    "    \n",
    "    # loss\n",
    "    plt.figure()\n",
    "    plt.xlabel('Epoch')\n",
    "    plt.ylabel('Loss')\n",
    "    plt.plot(hist['epoch'], hist['loss'], label='Train loss')\n",
    "    plt.plot(hist['epoch'], hist['val_loss'], label = 'Validation loss')\n",
    "    plt.legend()\n",
    "    \n",
    "\n",
    "    # 正確性\n",
    "    plt.figure()\n",
    "    plt.xlabel('Epoch')\n",
    "    plt.ylabel('Accuracy')\n",
    "    plt.plot(hist['epoch'], hist['accuracy'], label='Train Accuracy')\n",
    "    plt.plot(hist['epoch'], hist['val_accuracy'], label = 'Validation Accuracy')\n",
    "    plt.legend()\n",
    "\n",
    "\n",
    "plot_history(history)"
   ]
  },
  {
   "cell_type": "code",
   "execution_count": 13,
   "metadata": {},
   "outputs": [
    {
     "ename": "NameError",
     "evalue": "name 'model' is not defined",
     "output_type": "error",
     "traceback": [
      "\u001b[1;31m---------------------------------------------------------------------------\u001b[0m",
      "\u001b[1;31mNameError\u001b[0m                                 Traceback (most recent call last)",
      "\u001b[1;32m<ipython-input-13-6d1f8dc3f461>\u001b[0m in \u001b[0;36m<module>\u001b[1;34m\u001b[0m\n\u001b[0;32m      1\u001b[0m \u001b[1;31m# モデルを使った予測(誤差の分布)\u001b[0m\u001b[1;33m\u001b[0m\u001b[1;33m\u001b[0m\u001b[1;33m\u001b[0m\u001b[0m\n\u001b[1;32m----> 2\u001b[1;33m \u001b[0mtest_predictions\u001b[0m \u001b[1;33m=\u001b[0m \u001b[0mmodel\u001b[0m\u001b[1;33m.\u001b[0m\u001b[0mpredict\u001b[0m\u001b[1;33m(\u001b[0m\u001b[0mtest_dataset\u001b[0m\u001b[1;33m)\u001b[0m\u001b[1;33m.\u001b[0m\u001b[0mflatten\u001b[0m\u001b[1;33m(\u001b[0m\u001b[1;33m)\u001b[0m\u001b[1;33m\u001b[0m\u001b[1;33m\u001b[0m\u001b[0m\n\u001b[0m\u001b[0;32m      3\u001b[0m \u001b[0merror\u001b[0m \u001b[1;33m=\u001b[0m \u001b[0mtest_predictions\u001b[0m \u001b[1;33m-\u001b[0m \u001b[0my_test\u001b[0m\u001b[1;33m.\u001b[0m\u001b[0mreshape\u001b[0m\u001b[1;33m(\u001b[0m\u001b[1;36m288\u001b[0m\u001b[1;33m,\u001b[0m\u001b[1;33m)\u001b[0m \u001b[1;31m#誤差 = 予測値 - 正解(ラベル)\u001b[0m\u001b[1;33m\u001b[0m\u001b[1;33m\u001b[0m\u001b[0m\n\u001b[0;32m      4\u001b[0m \u001b[0mplt\u001b[0m\u001b[1;33m.\u001b[0m\u001b[0mhist\u001b[0m\u001b[1;33m(\u001b[0m\u001b[0merror\u001b[0m\u001b[1;33m,\u001b[0m \u001b[0mbins\u001b[0m \u001b[1;33m=\u001b[0m \u001b[1;36m50\u001b[0m\u001b[1;33m)\u001b[0m\u001b[1;33m\u001b[0m\u001b[1;33m\u001b[0m\u001b[0m\n\u001b[0;32m      5\u001b[0m \u001b[0mplt\u001b[0m\u001b[1;33m.\u001b[0m\u001b[0mxlabel\u001b[0m\u001b[1;33m(\u001b[0m\u001b[1;34m\"Prediction Error\"\u001b[0m\u001b[1;33m)\u001b[0m\u001b[1;33m\u001b[0m\u001b[1;33m\u001b[0m\u001b[0m\n",
      "\u001b[1;31mNameError\u001b[0m: name 'model' is not defined"
     ]
    }
   ],
   "source": [
    "# モデルを使った予測(誤差の分布)\n",
    "test_predictions = model.predict(test_dataset).flatten()\n",
    "error = test_predictions - y_test.reshape(288,) #誤差 = 予測値 - 正解(ラベル)\n",
    "plt.hist(error, bins = 50)\n",
    "plt.xlabel(\"Prediction Error\")\n",
    "_ = plt.ylabel(\"Count\")"
   ]
  },
  {
   "cell_type": "code",
   "execution_count": 540,
   "metadata": {},
   "outputs": [
    {
     "name": "stdout",
     "output_type": "stream",
     "text": [
      "True variable: 28 \n",
      "False variable: 68\n"
     ]
    }
   ],
   "source": [
    "t_count = 0\n",
    "f_count = 0\n",
    "\n",
    "for i in range(96):\n",
    "    if np.where(y_test[i] == 1) == test_predictions[i].argmax(axis=0):\n",
    "        #print(\"True\")\n",
    "        t_count += 1\n",
    "    else:\n",
    "        #print(\"Flase\")\n",
    "        f_count += 1\n",
    "print(\"True variable:\",t_count,\"\\nFalse variable:\",f_count)"
   ]
  },
  {
   "cell_type": "markdown",
   "metadata": {},
   "source": [
    "# 過学習 over-fitting\n",
    "上の図を見れば分かるように、およそ40エポック目あたりから正確性の低迷が続いている。これは、**過学習**と言い、トレーニングデータに特化してしまったため、汎用性の低いモデルとなってしまったと言える。これを、汎化させるには余計な学習をさせなければよい。今回の例で言うならば40エポックあたりで学習を打ち切ればおおよそいい値が得られそうだ。そのため、fitするときに指定するエポック数を40エポックで指定してみる。\n",
    "\n",
    "※モデルを再設定したため今は過学習気味ではない"
   ]
  },
  {
   "cell_type": "code",
   "execution_count": 185,
   "metadata": {
    "scrolled": false
   },
   "outputs": [
    {
     "name": "stdout",
     "output_type": "stream",
     "text": [
      "Model: \"sequential_41\"\n",
      "_________________________________________________________________\n",
      "Layer (type)                 Output Shape              Param #   \n",
      "=================================================================\n",
      "dense_119 (Dense)            (None, 32)                1248      \n",
      "_________________________________________________________________\n",
      "dropout_54 (Dropout)         (None, 32)                0         \n",
      "_________________________________________________________________\n",
      "dense_120 (Dense)            (None, 32)                1056      \n",
      "_________________________________________________________________\n",
      "dropout_55 (Dropout)         (None, 32)                0         \n",
      "_________________________________________________________________\n",
      "dense_121 (Dense)            (None, 3)                 99        \n",
      "=================================================================\n",
      "Total params: 2,403\n",
      "Trainable params: 2,403\n",
      "Non-trainable params: 0\n",
      "_________________________________________________________________\n",
      "96/96 [==============================] - 0s 667us/step - loss: 0.6942 - accuracy: 0.7188\n"
     ]
    }
   ],
   "source": [
    "model2 = multi_classing_NN()\n",
    "\n",
    "# 学習データのうち２割を検証用に使う(validation_split)\n",
    "history2 = model2.fit(train_dataset ,y_train, validation_split = 0.2, epochs=40, batch_size=5,verbose=0)\n",
    "score = model2.evaluate(test_dataset,y_test, batch_size=1)"
   ]
  },
  {
   "cell_type": "code",
   "execution_count": 186,
   "metadata": {},
   "outputs": [
    {
     "data": {
      "text/html": [
       "<div>\n",
       "<style scoped>\n",
       "    .dataframe tbody tr th:only-of-type {\n",
       "        vertical-align: middle;\n",
       "    }\n",
       "\n",
       "    .dataframe tbody tr th {\n",
       "        vertical-align: top;\n",
       "    }\n",
       "\n",
       "    .dataframe thead th {\n",
       "        text-align: right;\n",
       "    }\n",
       "</style>\n",
       "<table border=\"1\" class=\"dataframe\">\n",
       "  <thead>\n",
       "    <tr style=\"text-align: right;\">\n",
       "      <th></th>\n",
       "      <th>loss</th>\n",
       "      <th>accuracy</th>\n",
       "      <th>val_loss</th>\n",
       "      <th>val_accuracy</th>\n",
       "      <th>epoch</th>\n",
       "    </tr>\n",
       "  </thead>\n",
       "  <tbody>\n",
       "    <tr>\n",
       "      <th>35</th>\n",
       "      <td>0.598145</td>\n",
       "      <td>0.713355</td>\n",
       "      <td>0.943077</td>\n",
       "      <td>0.727273</td>\n",
       "      <td>35</td>\n",
       "    </tr>\n",
       "    <tr>\n",
       "      <th>36</th>\n",
       "      <td>0.603399</td>\n",
       "      <td>0.723127</td>\n",
       "      <td>0.910433</td>\n",
       "      <td>0.714286</td>\n",
       "      <td>36</td>\n",
       "    </tr>\n",
       "    <tr>\n",
       "      <th>37</th>\n",
       "      <td>0.613755</td>\n",
       "      <td>0.703583</td>\n",
       "      <td>1.281144</td>\n",
       "      <td>0.584416</td>\n",
       "      <td>37</td>\n",
       "    </tr>\n",
       "    <tr>\n",
       "      <th>38</th>\n",
       "      <td>0.581951</td>\n",
       "      <td>0.736156</td>\n",
       "      <td>0.970622</td>\n",
       "      <td>0.688312</td>\n",
       "      <td>38</td>\n",
       "    </tr>\n",
       "    <tr>\n",
       "      <th>39</th>\n",
       "      <td>0.553779</td>\n",
       "      <td>0.755700</td>\n",
       "      <td>0.931751</td>\n",
       "      <td>0.740260</td>\n",
       "      <td>39</td>\n",
       "    </tr>\n",
       "  </tbody>\n",
       "</table>\n",
       "</div>"
      ],
      "text/plain": [
       "        loss  accuracy  val_loss  val_accuracy  epoch\n",
       "35  0.598145  0.713355  0.943077      0.727273     35\n",
       "36  0.603399  0.723127  0.910433      0.714286     36\n",
       "37  0.613755  0.703583  1.281144      0.584416     37\n",
       "38  0.581951  0.736156  0.970622      0.688312     38\n",
       "39  0.553779  0.755700  0.931751      0.740260     39"
      ]
     },
     "execution_count": 186,
     "metadata": {},
     "output_type": "execute_result"
    }
   ],
   "source": [
    "# Historyオブジェクトの中身(history.history)を確認する\n",
    "hist = pd.DataFrame(history2.history)\n",
    "hist[\"epoch\"] = history2.epoch\n",
    "hist.tail()"
   ]
  },
  {
   "cell_type": "code",
   "execution_count": 187,
   "metadata": {
    "scrolled": false
   },
   "outputs": [
    {
     "data": {
      "image/png": "[encoded data removed]",
      "text/plain": [
       "<Figure size 432x288 with 1 Axes>"
      ]
     },
     "metadata": {
      "needs_background": "light"
     },
     "output_type": "display_data"
    },
    {
     "data": {
      "image/png": "[encoded data removed]",
      "text/plain": [
       "<Figure size 432x288 with 1 Axes>"
      ]
     },
     "metadata": {
      "needs_background": "light"
     },
     "output_type": "display_data"
    }
   ],
   "source": [
    "def plot_history(history):\n",
    "    hist = pd.DataFrame(history.history)\n",
    "    hist['epoch'] = history.epoch\n",
    "    \n",
    "    # loss\n",
    "    plt.figure()\n",
    "    plt.xlabel('Epoch')\n",
    "    plt.ylabel('Loss')\n",
    "    plt.plot(hist['epoch'], hist['loss'], label='Train loss')\n",
    "    plt.plot(hist['epoch'], hist['val_loss'], label = 'Validation loss')\n",
    "    plt.legend()\n",
    "    \n",
    "\n",
    "    # 正確性\n",
    "    plt.figure()\n",
    "    plt.xlabel('Epoch')\n",
    "    plt.ylabel('Accuracy')\n",
    "    plt.plot(hist['epoch'], hist['accuracy'], label='Train Accuracy')\n",
    "    plt.plot(hist['epoch'], hist['val_accuracy'], label = 'Validation Accuracy')\n",
    "    plt.legend()\n",
    "\n",
    "\n",
    "plot_history(history2)"
   ]
  },
  {
   "cell_type": "code",
   "execution_count": 285,
   "metadata": {},
   "outputs": [
    {
     "data": {
      "image/png": "[encoded data removed]",
      "text/plain": [
       "<Figure size 432x288 with 1 Axes>"
      ]
     },
     "metadata": {
      "needs_background": "light"
     },
     "output_type": "display_data"
    }
   ],
   "source": [
    "# モデルを使った予測(誤差の分布)\n",
    "test_predictions2 = model2.predict(test_dataset).flatten()\n",
    "error = test_predictions2 - y_test.reshape(288,) #誤差 = 予測値 - 正解(ラベル)\n",
    "plt.hist(error, bins = 50)\n",
    "plt.xlabel(\"Prediction Error\")\n",
    "_ = plt.ylabel(\"Count\")"
   ]
  },
  {
   "cell_type": "code",
   "execution_count": 284,
   "metadata": {},
   "outputs": [
    {
     "name": "stdout",
     "output_type": "stream",
     "text": [
      "True variable: 28 \n",
      "False variable: 68\n"
     ]
    }
   ],
   "source": [
    "test_predictions2 = test_predictions2.reshape(96,3)\n",
    "t_count = 0\n",
    "f_count = 0\n",
    "\n",
    "\n",
    "for i in range(96):\n",
    "    if np.where(y_test[i] == 1) == test_predictions[i].argmax(axis=0):\n",
    "        #print(\"True\")\n",
    "        t_count += 1\n",
    "    else:\n",
    "        #print(\"Flase\")\n",
    "        f_count += 1\n",
    "print(\"True variable:\",t_count,\"\\nFalse variable:\",f_count)"
   ]
  },
  {
   "cell_type": "markdown",
   "metadata": {},
   "source": [
    "# 振り返り\n",
    "どうだっただろうか。個人的には適切な層の厚みや深み、不適切なデータの削除など、理解できていない部分が多くて正答率はあまり高くならなかった。今回、私は入力データから列:出生地と列:国籍を削除した。判断した理由としは、one-hotエンコーディングの説明の際に記述したように、出生地と国籍はどちらも14か国のカテゴリが存在するが、これをone-hotエンコーディングを行い14列に変換したとしても14列でようやく1つのデータを表していることに他ならない。機械学習は判断材料として有用性の高い入力データに関しては列数を増やすことでより再現性の高い予測近似が可能になるというメリットがあるが、そうでないものに関してはパラメータ数の急増による学習の困難化などのデメリットの方が多いと考えたからである。ただ、今回のデータに関しては「出生地と国籍が一致しているか」という列にすることで1列にまとめることが可能であり、面白い統計と言えそうな気がしなくもない。\n",
    "\n",
    "また、もう1個分かった点としては、モデルの層が厚すぎると(ノード数が多すぎると)損失を描画した際のグラフがジグザグになりやすいということだろう。多クラス分類ではクラス数が層の厚みを上回るようなモデルは避けた方がよいとされるが、逆に多すぎても学習を困難にしてしまうだけである。一度学習してみてもし損失を描画した際にジグザグすぎるようなら、層の厚みを減らして、パラメータ数を減らすようにしてみるとよいかもしれない。\n",
    "\n",
    "→　機械学習なので重要性が低ければ重みは小さくなっていく\n",
    "\n",
    "※  \n",
    "1次元:3層が大体  \n",
    "画像データ等:resnet 120層程度 \n",
    "VGG : 16,19等\n",
    "\n",
    "PCA (principle Component Analyse)"
   ]
  },
  {
   "cell_type": "markdown",
   "metadata": {},
   "source": [
    "# おまけ Numpyでの実装\n",
    "今回は機械学習で多クラス分類であまり成果が得られなかったため、Numpyでニューラルネットワークを実装することで何とか成果を得られたということにしたいと思う。"
   ]
  },
  {
   "cell_type": "markdown",
   "metadata": {},
   "source": [
    "## 交差エントロピー誤差:loss関数\n",
    "損失関数の1つであり、クラス分類でよく用いられる交差エントロピー誤差は以下の式で表される。\n",
    "\n",
    "$$\n",
    "    \\tag{1}\n",
    "    E =\n",
    "    - \\sum_{k} t_{k} \\log{y_{k}}\n",
    "$$"
   ]
  },
  {
   "cell_type": "code",
   "execution_count": 533,
   "metadata": {},
   "outputs": [],
   "source": [
    "# t:正解ラベル, y:NNの出力\n",
    "def cross_entropy(y,t):\n",
    "    delta = 1e-7\n",
    "    return -np.sum(t * np.log(y + delta))"
   ]
  },
  {
   "cell_type": "code",
   "execution_count": 425,
   "metadata": {},
   "outputs": [
    {
     "data": {
      "text/plain": [
       "(-5.0, 0.0)"
      ]
     },
     "execution_count": 425,
     "metadata": {},
     "output_type": "execute_result"
    },
    {
     "data": {
      "image/png": "[encoded data removed]",
      "text/plain": [
       "<Figure size 432x288 with 1 Axes>"
      ]
     },
     "metadata": {
      "needs_background": "light"
     },
     "output_type": "display_data"
    }
   ],
   "source": [
    "# log\n",
    "x = np.linspace(0.001,1,100)\n",
    "\n",
    "plt.figure()\n",
    "plt.plot(x,np.log(x))\n",
    "plt.xlabel(\"x\")\n",
    "plt.ylabel(\"y\")\n",
    "plt.xlim(0,1)\n",
    "plt.ylim(-5,0)"
   ]
  },
  {
   "cell_type": "code",
   "execution_count": 534,
   "metadata": {},
   "outputs": [
    {
     "name": "stdout",
     "output_type": "stream",
     "text": [
      "5.860347291331604\n"
     ]
    }
   ],
   "source": [
    "# やってみる\n",
    "\n",
    "t = [1,0,1,0,1,0,1,0,1,0]\n",
    "y = np.random.rand(10)\n",
    "\n",
    "out = cross_entropy(y,t)\n",
    "\n",
    "print(out)"
   ]
  },
  {
   "cell_type": "markdown",
   "metadata": {},
   "source": [
    "# ソフトマックス関数\n",
    "\n",
    "$$\n",
    "    \\tag{1}\n",
    "    y_k = \\frac{exp(a_k)}{\\sum^{n}_{i=1}(a_i)}\n",
    "$$\n",
    "\n",
    "ここでは、出力層がn個あるとして、k番目の出力$ y_k $を求める計算式を表している。式5に示したように、ソフトマックス関数の分子は入力信号$ a_k $の指数関数、分母はすべての入力信号の指数関数の和から構成される。つまり、出力の各ニューロンがすべての入力信号から影響を受けるようになっている。\n",
    "\n",
    "ソフトマックス関数を実装する際には、オーバーフローに注意しなければならない。非常に大きな値になりがちなので、その値同士で割算を行うと、数値が不安定な結果となってしまう。その提案策として、分子と分母に同じ値のCという任意の定数を掛けるというものがある。分母と分子に同じ値を掛けるため最終的な結果は変わらない。具体的な式を下に示す。\n",
    "\n",
    "$$\n",
    "    \\tag{2}\n",
    "    \\begin{eqnarray}\n",
    "    y_k = \\frac{exp(a_k)}{\\sum^{n}_{i=1}(a_i)}\n",
    "        &=& \\frac{C exp(a_k)}{C \\sum^{n}_{i=1}(a_i)} \\\\\n",
    "        &=& \\frac{exp(a_k + logC)}{\\sum^{n}_{i=1}(a_i + logC)} \\\\\n",
    "        &=& \\frac{exp(a_k + C')}{\\sum^{n}_{i=1}(a_i + C')}\n",
    "    \\end{eqnarray}\n",
    "$$\n",
    "\n",
    "式6で述べていることは、ソフトマックス関数の計算を行う際には、何らかの定数を足し引きしても結果は変わらないということだ。ここで、C'にはどのような値を用いてもよいが、入力信号の最大値を用いることが一般的である。"
   ]
  }
 ],
 "metadata": {
  "kernelspec": {
   "display_name": "Python 3",
   "language": "python",
   "name": "python3"
  },
  "language_info": {
   "codemirror_mode": {
    "name": "ipython",
    "version": 3
   },
   "file_extension": ".py",
   "mimetype": "text/x-python",
   "name": "python",
   "nbconvert_exporter": "python",
   "pygments_lexer": "ipython3",
   "version": "3.8.3"
  }
 },
 "nbformat": 4,
 "nbformat_minor": 4
}
